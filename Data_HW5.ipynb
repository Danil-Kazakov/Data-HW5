{
  "nbformat": 4,
  "nbformat_minor": 0,
  "metadata": {
    "colab": {
      "provenance": [],
      "mount_file_id": "18QkgcaIVor6KAE1gmgCqy_i400-a8zy-",
      "authorship_tag": "ABX9TyMXIbD2u1lfqoqzJapceNNP",
      "include_colab_link": true
    },
    "kernelspec": {
      "name": "python3",
      "display_name": "Python 3"
    },
    "language_info": {
      "name": "python"
    }
  },
  "cells": [
    {
      "cell_type": "markdown",
      "metadata": {
        "id": "view-in-github",
        "colab_type": "text"
      },
      "source": [
        "<a href=\"https://colab.research.google.com/github/Danil-Kazakov/Data-HW5/blob/main/Data_HW5.ipynb\" target=\"_parent\"><img src=\"https://colab.research.google.com/assets/colab-badge.svg\" alt=\"Open In Colab\"/></a>"
      ]
    },
    {
      "cell_type": "code",
      "source": [
        "import pandas as pd\n",
        "import numpy as np\n",
        "import os\n",
        "from sklearn.model_selection import train_test_split\n",
        "from sklearn.svm import SVC\n",
        "from sklearn.ensemble import RandomForestClassifier\n",
        "from sklearn.metrics import classification_report, confusion_matrix\n"
      ],
      "metadata": {
        "id": "iCjVjllyUzAo"
      },
      "execution_count": 2,
      "outputs": []
    },
    {
      "cell_type": "code",
      "source": [
        "folder = '/content/drive/MyDrive/content/data'\n",
        "data_set = pd.DataFrame()\n",
        "\n",
        "for activity_folder in os.listdir(folder):\n",
        "    activity_path = os.path.join(folder, activity_folder)\n",
        "    if not os.path.isdir(activity_path):\n",
        "        continue\n",
        "\n",
        "    for file in os.listdir(activity_path):\n",
        "        file_path = os.path.join(activity_path, file)\n",
        "        if not file.endswith('.csv'):\n",
        "            continue\n",
        "\n",
        "        df = pd.read_csv(file_path)\n",
        "        df['activity'] = activity_folder\n",
        "        data_set = pd.concat([data_set, df], ignore_index=True)\n",
        "\n",
        "# Print the head of the dataset and value counts for activity\n",
        "print(data_set.head())\n",
        "print(data_set['activity'].value_counts())"
      ],
      "metadata": {
        "id": "PmVTLZmXUzIb",
        "colab": {
          "base_uri": "https://localhost:8080/"
        },
        "outputId": "6fc7b51b-be30-4107-c243-17fdfb8237f3"
      },
      "execution_count": 4,
      "outputs": [
        {
          "output_type": "stream",
          "name": "stdout",
          "text": [
            "   accelerometer_X  accelerometer_Y  accelerometer_Z activity\n",
            "0        -6.478709       -22.160730         0.162806   stairs\n",
            "1         5.272033       -25.546135        -8.652645   stairs\n",
            "2        -2.264915       -17.348385        -2.834735   stairs\n",
            "3        -7.426813         1.345541        -2.686294   stairs\n",
            "4        -0.694318       -15.030798        -5.501875   stairs\n",
            "activity\n",
            "running    102240\n",
            "walking     55500\n",
            "idle        31170\n",
            "stairs       4950\n",
            "Name: count, dtype: int64\n"
          ]
        }
      ]
    },
    {
      "cell_type": "code",
      "source": [
        "def add_stat_feature_frame(frame):\n",
        "    features = []\n",
        "    rows = frame.shape[0]\n",
        "    for col_id in range(frame.shape[1]):\n",
        "        col = frame.iloc[:, col_id]\n",
        "        features.append(pd.DataFrame([col.mean()] * rows, columns=[f'{col.name}_mean']))\n",
        "        features.append(pd.DataFrame([col.max()] * rows, columns=[f'{col.name}_max']))\n",
        "        features.append(pd.DataFrame([col.min()] * rows, columns=[f'{col.name}_min']))\n",
        "        features.append(pd.DataFrame([col.quantile(0.75) - col.quantile(0.25)] * rows, columns=[f'{col.name}_interquartile_range']))\n",
        "        features.append(pd.DataFrame([col.idxmin()] * rows, columns=[f'{col.name}_index_of_minimum_value']))\n",
        "        features.append(pd.DataFrame([np.mean(np.abs(col - col.mean()))] * rows, columns=[f'{col.name}_mean_of_absolute_deviation']))\n",
        "        features.append(pd.DataFrame([col.median()] * rows, columns=[f'{col.name}_median']))\n",
        "        features.append(pd.DataFrame([col.std()] * rows, columns=[f'{col.name}_standard_deviation']))\n",
        "        features.append(pd.DataFrame([np.sqrt(np.mean(col) ** 2)] * rows, columns=[f'{col.name}_root_mean_square_error']))\n",
        "    return pd.concat(features, axis=1)\n",
        "\n",
        "# Adding time domain features\n",
        "data_set_with_features = pd.concat([data_set.drop('activity', axis=1), add_stat_feature_frame(data_set.drop('activity', axis=1))], axis=1)\n"
      ],
      "metadata": {
        "id": "Tnufe2r8WJ7X"
      },
      "execution_count": 5,
      "outputs": []
    },
    {
      "cell_type": "code",
      "source": [
        "# Split data into features and target\n",
        "X = data_set.drop('activity', axis=1)\n",
        "y = data_set['activity']\n",
        "\n",
        "# Split the dataset into training and test sets\n",
        "X_train, X_test, y_train, y_test = train_test_split(X, y, test_size=0.3, random_state=42, stratify=y)\n",
        "\n",
        "# Split the dataset with features into training and test sets\n",
        "X_with_features = data_set_with_features\n",
        "y_with_features = data_set['activity']\n",
        "X_train_wf, X_test_wf, y_train_wf, y_test_wf = train_test_split(X_with_features, y_with_features, test_size=0.3, random_state=42, stratify=y_with_features)\n"
      ],
      "metadata": {
        "id": "GJyWKiKHWOOn"
      },
      "execution_count": 6,
      "outputs": []
    },
    {
      "cell_type": "code",
      "source": [
        "# Define models\n",
        "models = {\n",
        "    \"SVC\": SVC(),\n",
        "    \"RandomForestClassifier\": RandomForestClassifier(random_state=42)\n",
        "}\n",
        "\n",
        "# Train and evaluate models on data without additional features\n",
        "for model_name, model in models.items():\n",
        "    print(f\"Training model: {model_name}\")\n",
        "    model.fit(X_train, y_train)\n",
        "    y_pred = model.predict(X_test)\n",
        "    print(f\"Classification report for {model_name}:\\n\")\n",
        "    print(classification_report(y_test, y_pred, digits=4))\n",
        "    print(confusion_matrix(y_test, y_pred))\n",
        "\n",
        "# Train and evaluate models on data with additional features\n",
        "for model_name, model in models.items():\n",
        "    print(f\"Training model with features: {model_name}\")\n",
        "    model.fit(X_train_wf, y_train_wf)\n",
        "    y_pred_wf = model.predict(X_test_wf)\n",
        "    print(f\"Classification report for {model_name} with features:\\n\")\n",
        "    print(classification_report(y_test_wf, y_pred_wf, digits=4))\n",
        "    print(confusion_matrix(y_test_wf, y_pred_wf))\n"
      ],
      "metadata": {
        "colab": {
          "base_uri": "https://localhost:8080/"
        },
        "id": "KscEUHhWWRAg",
        "outputId": "be2acf62-4907-43d6-de65-7ccdc03af827"
      },
      "execution_count": 7,
      "outputs": [
        {
          "output_type": "stream",
          "name": "stdout",
          "text": [
            "Training model: SVC\n",
            "Classification report for SVC:\n",
            "\n",
            "              precision    recall  f1-score   support\n",
            "\n",
            "        idle     0.9568    0.9880    0.9722      9351\n",
            "     running     0.9317    0.9007    0.9159     30672\n",
            "      stairs     1.0000    0.0034    0.0067      1485\n",
            "     walking     0.7980    0.9033    0.8474     16650\n",
            "\n",
            "    accuracy                         0.8926     58158\n",
            "   macro avg     0.9216    0.6988    0.6855     58158\n",
            "weighted avg     0.8992    0.8926    0.8821     58158\n",
            "\n",
            "[[ 9239    91     0    21]\n",
            " [  341 27625     0  2706]\n",
            " [   13   386     5  1081]\n",
            " [   63  1547     0 15040]]\n",
            "Training model: RandomForestClassifier\n",
            "Classification report for RandomForestClassifier:\n",
            "\n",
            "              precision    recall  f1-score   support\n",
            "\n",
            "        idle     0.9998    0.9999    0.9998      9351\n",
            "     running     0.9996    1.0000    0.9998     30672\n",
            "      stairs     1.0000    0.9892    0.9946      1485\n",
            "     walking     0.9995    0.9997    0.9996     16650\n",
            "\n",
            "    accuracy                         0.9996     58158\n",
            "   macro avg     0.9997    0.9972    0.9985     58158\n",
            "weighted avg     0.9996    0.9996    0.9996     58158\n",
            "\n",
            "[[ 9350     1     0     0]\n",
            " [    0 30671     0     1]\n",
            " [    0     9  1469     7]\n",
            " [    2     3     0 16645]]\n",
            "Training model with features: SVC\n",
            "Classification report for SVC with features:\n",
            "\n"
          ]
        },
        {
          "output_type": "stream",
          "name": "stderr",
          "text": [
            "/usr/local/lib/python3.10/dist-packages/sklearn/metrics/_classification.py:1344: UndefinedMetricWarning: Precision and F-score are ill-defined and being set to 0.0 in labels with no predicted samples. Use `zero_division` parameter to control this behavior.\n",
            "  _warn_prf(average, modifier, msg_start, len(result))\n",
            "/usr/local/lib/python3.10/dist-packages/sklearn/metrics/_classification.py:1344: UndefinedMetricWarning: Precision and F-score are ill-defined and being set to 0.0 in labels with no predicted samples. Use `zero_division` parameter to control this behavior.\n",
            "  _warn_prf(average, modifier, msg_start, len(result))\n",
            "/usr/local/lib/python3.10/dist-packages/sklearn/metrics/_classification.py:1344: UndefinedMetricWarning: Precision and F-score are ill-defined and being set to 0.0 in labels with no predicted samples. Use `zero_division` parameter to control this behavior.\n",
            "  _warn_prf(average, modifier, msg_start, len(result))\n"
          ]
        },
        {
          "output_type": "stream",
          "name": "stdout",
          "text": [
            "              precision    recall  f1-score   support\n",
            "\n",
            "        idle     0.0000    0.0000    0.0000      9351\n",
            "     running     0.5274    1.0000    0.6906     30672\n",
            "      stairs     0.0000    0.0000    0.0000      1485\n",
            "     walking     0.0000    0.0000    0.0000     16650\n",
            "\n",
            "    accuracy                         0.5274     58158\n",
            "   macro avg     0.1318    0.2500    0.1726     58158\n",
            "weighted avg     0.2781    0.5274    0.3642     58158\n",
            "\n",
            "[[    0  9351     0     0]\n",
            " [    0 30672     0     0]\n",
            " [    0  1485     0     0]\n",
            " [    0 16650     0     0]]\n",
            "Training model with features: RandomForestClassifier\n",
            "Classification report for RandomForestClassifier with features:\n",
            "\n",
            "              precision    recall  f1-score   support\n",
            "\n",
            "        idle     0.9998    0.9999    0.9998      9351\n",
            "     running     0.9996    1.0000    0.9998     30672\n",
            "      stairs     1.0000    0.9892    0.9946      1485\n",
            "     walking     0.9995    0.9997    0.9996     16650\n",
            "\n",
            "    accuracy                         0.9996     58158\n",
            "   macro avg     0.9997    0.9972    0.9985     58158\n",
            "weighted avg     0.9996    0.9996    0.9996     58158\n",
            "\n",
            "[[ 9350     1     0     0]\n",
            " [    0 30671     0     1]\n",
            " [    0     9  1469     7]\n",
            " [    2     3     0 16645]]\n"
          ]
        }
      ]
    }
  ]
}